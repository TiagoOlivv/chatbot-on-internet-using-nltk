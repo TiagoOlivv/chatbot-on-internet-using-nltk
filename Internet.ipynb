{
 "cells": [
  {
   "cell_type": "markdown",
   "metadata": {},
   "source": [
    "# Chatbot usando NLTK"
   ]
  },
  {
   "cell_type": "markdown",
   "metadata": {},
   "source": [
    "### Importando Bibliotecas"
   ]
  },
  {
   "cell_type": "code",
   "execution_count": 1,
   "metadata": {},
   "outputs": [],
   "source": [
    "import nltk # Kit para processamento de linguagem natural\n",
    "import numpy as np # Fornece um objeto de matriz multidimensional e ferramentas para trabalhar com essas matrizes.\n",
    "import random # Implementa geradores de números pseudo-aleatórios para várias distribuições.\n",
    "import string # Para processar seqüências de caracteres padrão de python."
   ]
  },
  {
   "cell_type": "markdown",
   "metadata": {},
   "source": [
    "### Lendo dados"
   ]
  },
  {
   "cell_type": "code",
   "execution_count": 2,
   "metadata": {},
   "outputs": [],
   "source": [
    "# Ler o arquivo e converter em uma lista de frases e uma lista de palavras para o pré-processamento.\n",
    "\n",
    "f=open('internet.txt','r',errors = 'ignore')\n",
    "\n",
    "raw=f.read()\n",
    "\n",
    "raw=raw.lower()# Converte para minúsculas \n",
    "\n",
    "sentencas_tokens = nltk.sent_tokenize(raw)# Converte para lista de sentenças. \n",
    "palavras_tokens = nltk.word_tokenize(raw)# Converte para lista de palavras."
   ]
  },
  {
   "cell_type": "markdown",
   "metadata": {},
   "source": [
    "### Pré-Processamento do texto bruto"
   ]
  },
  {
   "cell_type": "code",
   "execution_count": 3,
   "metadata": {},
   "outputs": [],
   "source": [
    "# Função LemTokens, que tomará como entrada os tokens e retornará tokens normalizados.\n",
    "\n",
    "lemmer = nltk.stem.WordNetLemmatizer()\n",
    "# WordNet é um dicionário semanticamente orientado do inglês incluído no NLTK. \n",
    "\n",
    "def LemTokens(tokens):\n",
    "    return [lemmer.lemmatize(token) for token in tokens]\n",
    "remove_punct_dict = dict((ord(punct), None) for punct in string.punctuation)\n",
    "def LemNormalize(text):\n",
    "    return LemTokens(nltk.word_tokenize(text.lower().translate(remove_punct_dict)))"
   ]
  },
  {
   "cell_type": "markdown",
   "metadata": {},
   "source": [
    "### Correspondência de palavras-chave"
   ]
  },
  {
   "cell_type": "code",
   "execution_count": 4,
   "metadata": {},
   "outputs": [],
   "source": [
    "# Função para uma saudação pelo bot, se a entrada de um usuário for uma saudação, o bot retornará uma resposta de saudação.\n",
    "\n",
    "GREETING_INPUTS = (\"olá\", \"ola\", \"oi\", \"o que está acontecendo\", \"ei\",) \n",
    "\n",
    "GREETING_RESPONSES = [\"Seja Bem Vindo\", \"* acena com a cabeça *\", \"Oi\", \"Olá\", \"Estou feliz! Você está falando comigo\"] \n",
    "\n",
    "def greeting(sentence):\n",
    " \n",
    "    for word in sentence.split():\n",
    "        if word.lower() in GREETING_INPUTS:\n",
    "            return random.choice(GREETING_RESPONSES)"
   ]
  },
  {
   "cell_type": "markdown",
   "metadata": {},
   "source": [
    "##  Gerando Resposta"
   ]
  },
  {
   "cell_type": "markdown",
   "metadata": {},
   "source": [
    "### Importando os módulos necessários"
   ]
  },
  {
   "cell_type": "code",
   "execution_count": null,
   "metadata": {},
   "outputs": [],
   "source": [
    "# Usado para converter uma coleção de documentos brutos em uma matriz de recursos do TF-IDF.\n",
    "\n",
    "from sklearn.feature_extraction.text import TfidfVectorizer"
   ]
  },
  {
   "cell_type": "markdown",
   "metadata": {},
   "source": [
    "###  Similaridade de cosseno"
   ]
  },
  {
   "cell_type": "code",
   "execution_count": null,
   "metadata": {},
   "outputs": [],
   "source": [
    "# Usado para encontrar a semelhança entre as palavras inseridas pelo usuário e as palavras no arquivo. \n",
    "\n",
    "from sklearn.metrics.pairwise import cosine_similarity"
   ]
  },
  {
   "cell_type": "markdown",
   "metadata": {},
   "source": [
    "### Resposta"
   ]
  },
  {
   "cell_type": "code",
   "execution_count": null,
   "metadata": {},
   "outputs": [],
   "source": [
    "# Função que busca a expressão do usuário para uma ou mais palavras-chave conhecidas e retorna uma das várias respostas \n",
    "# possíveis. Se não encontrar a entrada correspondente a nenhuma das palavras-chave, ela retornará uma resposta: \n",
    "# ”Sinto muito! Eu não te entendo”\n",
    "\n",
    "def response(user_response):\n",
    "    robo_response=''\n",
    "    sentencas_tokens.append(user_response)\n",
    "\n",
    "    TfidfVec = TfidfVectorizer(tokenizer=LemNormalize, stop_words='english')\n",
    "    tfidf = TfidfVec.fit_transform(sentencas_tokens)\n",
    "    vals = cosine_similarity(tfidf[-1], tfidf)\n",
    "    idx=vals.argsort()[0][-2]\n",
    "    flat = vals.flatten()\n",
    "    flat.sort()\n",
    "    req_tfidf = flat[-2]\n",
    "\n",
    "    if(req_tfidf==0):\n",
    "        robo_response=robo_response+\"Sinto muito! eu não entendi\"\n",
    "        return robo_response\n",
    "    else:\n",
    "        robo_response = robo_response+sentencas_tokens[idx]\n",
    "        return robo_response"
   ]
  },
  {
   "cell_type": "markdown",
   "metadata": {},
   "source": [
    "### Inicio e fim da conversa"
   ]
  },
  {
   "cell_type": "code",
   "execution_count": null,
   "metadata": {
    "scrolled": true
   },
   "outputs": [
    {
     "name": "stdout",
     "output_type": "stream",
     "text": [
      "Olá Meu nome é RoboNET. Eu lhe ajudarei tentando responder suas perguntas sobre Internet.\n",
      "Se você quiser sair, basta digitar sair!\n",
      "defina internet\n",
      "ROBONET: "
     ]
    },
    {
     "name": "stderr",
     "output_type": "stream",
     "text": [
      "C:\\ProgramData\\Anaconda3\\lib\\site-packages\\sklearn\\feature_extraction\\text.py:300: UserWarning: Your stop_words may be inconsistent with your preprocessing. Tokenizing the stop words generated tokens ['ha', 'le', 'u', 'wa'] not in stop_words.\n",
      "  'stop_words.' % sorted(inconsistent))\n"
     ]
    },
    {
     "name": "stdout",
     "output_type": "stream",
     "text": [
      "\"internet\" = \"inter-redes\"\n",
      "\n",
      "internet é a interconexão de todas as redes do planeta.\n",
      "protocolo dns\n",
      "ROBONET: o protocolo dns encontra um endereço ip de acordo com o nome do computador (como um catálogo).\n",
      "historia da internet\n",
      "ROBONET: o futuro da internet\n",
      "os inventores da internet nunca poderiam imaginar todos os aplicativos que existem hoje na internet.\n",
      "endereço ip\n",
      "ROBONET: o protocolo dns encontra um endereço ip de acordo com o nome do computador (como um catálogo).\n",
      "internet society\n",
      "ROBONET: talvez o mais importante seja a internet society, um grupo privado sem fins lucrativos.\n",
      "provedores\n",
      "ROBONET: os provedores de serviços da internet vendem conexões mensais à internet para as pessoas.\n",
      "por que a palavra \"internet\"?\n",
      "ROBONET: por que a palavra \"internet\" ?\n",
      "significado de interenet\n",
      "ROBONET: Sinto muito! eu não entendi\n",
      "distancia\n",
      "ROBONET: Sinto muito! eu não entendi\n",
      "as distancias\n",
      "ROBONET: Sinto muito! eu não entendi\n",
      "velocidade\n",
      "ROBONET: a única desigualdade é a velocidade da qual você dispõe.\n"
     ]
    }
   ],
   "source": [
    "flag=True\n",
    "\n",
    "print(\"Olá Meu nome é RoboNET. Eu lhe ajudarei tentando responder suas perguntas sobre Internet.\\nSe você quiser sair, basta digitar sair!\")\n",
    "\n",
    "while(flag==True):\n",
    "    user_response = input()\n",
    "    user_response=user_response.lower()\n",
    "    if(user_response!='sair'):\n",
    "        if(user_response=='obrigado' or user_response=='obrigado' ):\n",
    "            flag=False\n",
    "            print(\"ROBONET: Seja bem vindo...\")\n",
    "        else:\n",
    "            if(greeting(user_response)!=None):\n",
    "                print(\"ROBONET: \"+greeting(user_response))\n",
    "            else:\n",
    "                print(\"ROBONET: \",end=\"\")\n",
    "                print(response(user_response))\n",
    "                sentencas_tokens.remove(user_response)\n",
    "    else:\n",
    "        flag=False\n",
    "        print(\"ROBONET: Tchau! até mais ...\")"
   ]
  }
 ],
 "metadata": {
  "kernelspec": {
   "display_name": "Python 3",
   "language": "python",
   "name": "python3"
  },
  "language_info": {
   "codemirror_mode": {
    "name": "ipython",
    "version": 3
   },
   "file_extension": ".py",
   "mimetype": "text/x-python",
   "name": "python",
   "nbconvert_exporter": "python",
   "pygments_lexer": "ipython3",
   "version": "3.7.1"
  }
 },
 "nbformat": 4,
 "nbformat_minor": 2
}
